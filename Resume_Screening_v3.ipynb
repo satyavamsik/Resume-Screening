{
  "cells": [
    {
      "cell_type": "markdown",
      "metadata": {
        "id": "MvhP0mCYl-Gc"
      },
      "source": [
        "# Resume Screening"
      ]
    },
    {
      "cell_type": "markdown",
      "metadata": {
        "id": "4B40dVuLH1xY"
      },
      "source": [
        "**Required imports**"
      ]
    },
    {
      "cell_type": "code",
      "source": [
        "!pip install pymupdf"
      ],
      "metadata": {
        "colab": {
          "base_uri": "https://localhost:8080/"
        },
        "id": "G7CUXYDWFSyQ",
        "outputId": "ecc3563c-3a77-42f6-fbac-6606e7be1f43"
      },
      "execution_count": 254,
      "outputs": [
        {
          "output_type": "stream",
          "name": "stdout",
          "text": [
            "Looking in indexes: https://pypi.org/simple, https://us-python.pkg.dev/colab-wheels/public/simple/\n",
            "Requirement already satisfied: pymupdf in /usr/local/lib/python3.10/dist-packages (1.22.2)\n"
          ]
        }
      ]
    },
    {
      "cell_type": "code",
      "execution_count": 255,
      "metadata": {
        "id": "ZaKafLvOeBr7",
        "vscode": {
          "languageId": "python"
        }
      },
      "outputs": [],
      "source": [
        "import re\n",
        "import numpy as np\n",
        "import pandas as pd\n",
        "import matplotlib.pyplot as plt\n",
        "\n",
        "from sklearn.preprocessing import LabelEncoder\n",
        "from sklearn.multiclass import OneVsRestClassifier\n",
        "from sklearn import metrics\n",
        "from sklearn.neighbors import KNeighborsClassifier\n",
        "from sklearn.model_selection import train_test_split\n",
        "\n",
        "from tensorflow.keras.preprocessing.text import Tokenizer\n",
        "from tensorflow.keras.preprocessing.sequence import pad_sequences\n",
        "from tensorflow.keras.layers import LSTM, Bidirectional, Dense, Embedding\n",
        "from tensorflow.keras.models import Sequential\n",
        "from tensorflow.keras.callbacks import EarlyStopping\n",
        "\n",
        "import csv\n",
        "import fitz\n",
        "from nltk.corpus import stopwords\n",
        "stop_words = stopwords.words('english')\n",
        "\n",
        "from warnings import filterwarnings\n",
        "filterwarnings('ignore')"
      ]
    },
    {
      "cell_type": "markdown",
      "metadata": {
        "id": "DfOYVF66H63O"
      },
      "source": [
        " **Load the dataset**"
      ]
    },
    {
      "cell_type": "code",
      "execution_count": 256,
      "metadata": {
        "colab": {
          "base_uri": "https://localhost:8080/",
          "height": 206
        },
        "id": "ucYgQ6gyoyRz",
        "outputId": "6d28c219-9d67-4fed-f42e-7a3987526df0",
        "vscode": {
          "languageId": "python"
        }
      },
      "outputs": [
        {
          "output_type": "execute_result",
          "data": {
            "text/plain": [
              "       Category                                             Resume\n",
              "0  Data Science  Skills * Programming Languages: Python (pandas...\n",
              "1  Data Science  Education Details \\r\\nMay 2013 to May 2017 B.E...\n",
              "2  Data Science  Areas of Interest Deep Learning, Control Syste...\n",
              "3  Data Science  Skills â¢ R â¢ Python â¢ SAP HANA â¢ Table...\n",
              "4  Data Science  Education Details \\r\\n MCA   YMCAUST,  Faridab..."
            ],
            "text/html": [
              "\n",
              "  <div id=\"df-3e091468-bfcc-4ec4-9c49-485f31c3c046\">\n",
              "    <div class=\"colab-df-container\">\n",
              "      <div>\n",
              "<style scoped>\n",
              "    .dataframe tbody tr th:only-of-type {\n",
              "        vertical-align: middle;\n",
              "    }\n",
              "\n",
              "    .dataframe tbody tr th {\n",
              "        vertical-align: top;\n",
              "    }\n",
              "\n",
              "    .dataframe thead th {\n",
              "        text-align: right;\n",
              "    }\n",
              "</style>\n",
              "<table border=\"1\" class=\"dataframe\">\n",
              "  <thead>\n",
              "    <tr style=\"text-align: right;\">\n",
              "      <th></th>\n",
              "      <th>Category</th>\n",
              "      <th>Resume</th>\n",
              "    </tr>\n",
              "  </thead>\n",
              "  <tbody>\n",
              "    <tr>\n",
              "      <th>0</th>\n",
              "      <td>Data Science</td>\n",
              "      <td>Skills * Programming Languages: Python (pandas...</td>\n",
              "    </tr>\n",
              "    <tr>\n",
              "      <th>1</th>\n",
              "      <td>Data Science</td>\n",
              "      <td>Education Details \\r\\nMay 2013 to May 2017 B.E...</td>\n",
              "    </tr>\n",
              "    <tr>\n",
              "      <th>2</th>\n",
              "      <td>Data Science</td>\n",
              "      <td>Areas of Interest Deep Learning, Control Syste...</td>\n",
              "    </tr>\n",
              "    <tr>\n",
              "      <th>3</th>\n",
              "      <td>Data Science</td>\n",
              "      <td>Skills â¢ R â¢ Python â¢ SAP HANA â¢ Table...</td>\n",
              "    </tr>\n",
              "    <tr>\n",
              "      <th>4</th>\n",
              "      <td>Data Science</td>\n",
              "      <td>Education Details \\r\\n MCA   YMCAUST,  Faridab...</td>\n",
              "    </tr>\n",
              "  </tbody>\n",
              "</table>\n",
              "</div>\n",
              "      <button class=\"colab-df-convert\" onclick=\"convertToInteractive('df-3e091468-bfcc-4ec4-9c49-485f31c3c046')\"\n",
              "              title=\"Convert this dataframe to an interactive table.\"\n",
              "              style=\"display:none;\">\n",
              "        \n",
              "  <svg xmlns=\"http://www.w3.org/2000/svg\" height=\"24px\"viewBox=\"0 0 24 24\"\n",
              "       width=\"24px\">\n",
              "    <path d=\"M0 0h24v24H0V0z\" fill=\"none\"/>\n",
              "    <path d=\"M18.56 5.44l.94 2.06.94-2.06 2.06-.94-2.06-.94-.94-2.06-.94 2.06-2.06.94zm-11 1L8.5 8.5l.94-2.06 2.06-.94-2.06-.94L8.5 2.5l-.94 2.06-2.06.94zm10 10l.94 2.06.94-2.06 2.06-.94-2.06-.94-.94-2.06-.94 2.06-2.06.94z\"/><path d=\"M17.41 7.96l-1.37-1.37c-.4-.4-.92-.59-1.43-.59-.52 0-1.04.2-1.43.59L10.3 9.45l-7.72 7.72c-.78.78-.78 2.05 0 2.83L4 21.41c.39.39.9.59 1.41.59.51 0 1.02-.2 1.41-.59l7.78-7.78 2.81-2.81c.8-.78.8-2.07 0-2.86zM5.41 20L4 18.59l7.72-7.72 1.47 1.35L5.41 20z\"/>\n",
              "  </svg>\n",
              "      </button>\n",
              "      \n",
              "  <style>\n",
              "    .colab-df-container {\n",
              "      display:flex;\n",
              "      flex-wrap:wrap;\n",
              "      gap: 12px;\n",
              "    }\n",
              "\n",
              "    .colab-df-convert {\n",
              "      background-color: #E8F0FE;\n",
              "      border: none;\n",
              "      border-radius: 50%;\n",
              "      cursor: pointer;\n",
              "      display: none;\n",
              "      fill: #1967D2;\n",
              "      height: 32px;\n",
              "      padding: 0 0 0 0;\n",
              "      width: 32px;\n",
              "    }\n",
              "\n",
              "    .colab-df-convert:hover {\n",
              "      background-color: #E2EBFA;\n",
              "      box-shadow: 0px 1px 2px rgba(60, 64, 67, 0.3), 0px 1px 3px 1px rgba(60, 64, 67, 0.15);\n",
              "      fill: #174EA6;\n",
              "    }\n",
              "\n",
              "    [theme=dark] .colab-df-convert {\n",
              "      background-color: #3B4455;\n",
              "      fill: #D2E3FC;\n",
              "    }\n",
              "\n",
              "    [theme=dark] .colab-df-convert:hover {\n",
              "      background-color: #434B5C;\n",
              "      box-shadow: 0px 1px 3px 1px rgba(0, 0, 0, 0.15);\n",
              "      filter: drop-shadow(0px 1px 2px rgba(0, 0, 0, 0.3));\n",
              "      fill: #FFFFFF;\n",
              "    }\n",
              "  </style>\n",
              "\n",
              "      <script>\n",
              "        const buttonEl =\n",
              "          document.querySelector('#df-3e091468-bfcc-4ec4-9c49-485f31c3c046 button.colab-df-convert');\n",
              "        buttonEl.style.display =\n",
              "          google.colab.kernel.accessAllowed ? 'block' : 'none';\n",
              "\n",
              "        async function convertToInteractive(key) {\n",
              "          const element = document.querySelector('#df-3e091468-bfcc-4ec4-9c49-485f31c3c046');\n",
              "          const dataTable =\n",
              "            await google.colab.kernel.invokeFunction('convertToInteractive',\n",
              "                                                     [key], {});\n",
              "          if (!dataTable) return;\n",
              "\n",
              "          const docLinkHtml = 'Like what you see? Visit the ' +\n",
              "            '<a target=\"_blank\" href=https://colab.research.google.com/notebooks/data_table.ipynb>data table notebook</a>'\n",
              "            + ' to learn more about interactive tables.';\n",
              "          element.innerHTML = '';\n",
              "          dataTable['output_type'] = 'display_data';\n",
              "          await google.colab.output.renderOutput(dataTable, element);\n",
              "          const docLink = document.createElement('div');\n",
              "          docLink.innerHTML = docLinkHtml;\n",
              "          element.appendChild(docLink);\n",
              "        }\n",
              "      </script>\n",
              "    </div>\n",
              "  </div>\n",
              "  "
            ]
          },
          "metadata": {},
          "execution_count": 256
        }
      ],
      "source": [
        "dataframe = pd.read_csv('/content/UpdatedResumeDataSet.csv', encoding='utf-8')\n",
        "dataframe.head()"
      ]
    },
    {
      "cell_type": "markdown",
      "metadata": {
        "id": "zgxdWu6ADNJm"
      },
      "source": [
        " **Data Visualization**"
      ]
    },
    {
      "cell_type": "code",
      "execution_count": 257,
      "metadata": {
        "colab": {
          "base_uri": "https://localhost:8080/"
        },
        "id": "G3fWLV-yoyR0",
        "outputId": "e4755df4-864b-444a-cd63-1f1aefb4be58",
        "vscode": {
          "languageId": "python"
        }
      },
      "outputs": [
        {
          "output_type": "stream",
          "name": "stdout",
          "text": [
            "total resumes in the dataset: 962\n",
            "total unique categories: 25\n",
            "Number of records for each category of the dataset:\n",
            "Java Developer               84\n",
            "Testing                      70\n",
            "DevOps Engineer              55\n",
            "Python Developer             48\n",
            "Web Designing                45\n",
            "HR                           44\n",
            "Hadoop                       42\n",
            "Blockchain                   40\n",
            "ETL Developer                40\n",
            "Operations Manager           40\n",
            "Data Science                 40\n",
            "Sales                        40\n",
            "Mechanical Engineer          40\n",
            "Arts                         36\n",
            "Database                     33\n",
            "Electrical Engineering       30\n",
            "Health and fitness           30\n",
            "PMO                          30\n",
            "Business Analyst             28\n",
            "DotNet Developer             28\n",
            "Automation Testing           26\n",
            "Network Security Engineer    25\n",
            "SAP Developer                24\n",
            "Civil Engineer               24\n",
            "Advocate                     20\n",
            "Name: Category, dtype: int64\n"
          ]
        }
      ],
      "source": [
        "unique_categories = dataframe['Category'].unique()\n",
        "category_counts = dataframe['Category'].value_counts()\n",
        "print(\"total resumes in the dataset:\", len(dataframe['Category']))\n",
        "print(\"total unique categories:\", len(unique_categories))\n",
        "print(\"Number of records for each category of the dataset:\")\n",
        "print(category_counts)"
      ]
    },
    {
      "cell_type": "code",
      "source": [
        "# Create a bar chart of the category counts\n",
        "plt.figure(figsize=(13, 5))\n",
        "plt.bar(range(len(unique_categories)), category_counts)\n",
        "\n",
        "# Label the x-axis with the category names\n",
        "plt.xticks(range(len(unique_categories)), unique_categories, rotation=90)\n",
        "\n",
        "# Label the y-axis with the count of resumes in each category\n",
        "plt.ylabel('Number of Resumes')\n",
        "\n",
        "# Add the value of each category on top of its bar\n",
        "for i, count in enumerate(category_counts):\n",
        "    plt.text(i, count + 1, str(count), ha='center')\n",
        "\n",
        "# Set the title of the plot\n",
        "plt.title('Distribution of Resumes across all Categories')\n",
        "\n",
        "# Show the plot\n",
        "plt.show()"
      ],
      "metadata": {
        "colab": {
          "base_uri": "https://localhost:8080/",
          "height": 639
        },
        "id": "z2BUcezeAhkK",
        "outputId": "075005d1-e286-4924-84af-34cc8eef510a"
      },
      "execution_count": 258,
      "outputs": [
        {
          "output_type": "display_data",
          "data": {
            "text/plain": [
              "<Figure size 1300x500 with 1 Axes>"
            ],
            "image/png": "[encoded data removed]"
          },
          "metadata": {}
        }
      ]
    },
    {
      "cell_type": "markdown",
      "metadata": {
        "id": "l0Yms19aIIPK"
      },
      "source": [
        "**Data Pre-processing**"
      ]
    },
    {
      "cell_type": "code",
      "execution_count": 259,
      "metadata": {
        "id": "wmt8nKJvoyR1",
        "vscode": {
          "languageId": "python"
        }
      },
      "outputs": [],
      "source": [
        "def cleanResume(resumeText):\n",
        "\n",
        "    resumeText = resumeText.lower()\n",
        "    resumeText = re.sub(r'http\\S+', '', resumeText)  # removes http URLs\n",
        "    resumeText = re.sub(r'www\\S+', '', resumeText)  # removes www URLs\n",
        "    resumeText = re.sub(r'#\\S+', '', resumeText)  # removes hashtags\n",
        "    resumeText = re.sub(r'@\\S+', '', resumeText)  # removes mentions\n",
        "    resumeText = re.sub(r'[_-]', ' ', resumeText)  # add space replacing hiphen\n",
        "    resumeText = re.sub(r'[^a-zA-Z]', ' ', resumeText)  # removes non-alphabetical characters\n",
        "    resumeText = re.sub('\\s+', ' ', resumeText)  # removes extra whitespace\n",
        "\n",
        "    tokens = resumeText.split()\n",
        "    words = [i for i in tokens if i not in stop_words]\n",
        "    resumeText = (\" \").join(words)\n",
        "\n",
        "    return resumeText"
      ]
    },
    {
      "cell_type": "code",
      "execution_count": 260,
      "metadata": {
        "colab": {
          "base_uri": "https://localhost:8080/",
          "height": 206
        },
        "id": "j7rgHuRNgkyB",
        "outputId": "61e3d73b-f3f2-4693-fe30-9ee31458ab36",
        "vscode": {
          "languageId": "python"
        }
      },
      "outputs": [
        {
          "output_type": "execute_result",
          "data": {
            "text/plain": [
              "   Category                                             Resume  \\\n",
              "0         6  Skills * Programming Languages: Python (pandas...   \n",
              "1         6  Education Details \\r\\nMay 2013 to May 2017 B.E...   \n",
              "2         6  Areas of Interest Deep Learning, Control Syste...   \n",
              "3         6  Skills â¢ R â¢ Python â¢ SAP HANA â¢ Table...   \n",
              "4         6  Education Details \\r\\n MCA   YMCAUST,  Faridab...   \n",
              "\n",
              "                                      cleaned_resume  \n",
              "0  skills programming languages python pandas num...  \n",
              "1  education details may may b e uit rgpv data sc...  \n",
              "2  areas interest deep learning control system de...  \n",
              "3  skills r python sap hana tableau sap hana sql ...  \n",
              "4  education details mca ymcaust faridabad haryan...  "
            ],
            "text/html": [
              "\n",
              "  <div id=\"df-b92cadaa-9089-49a0-9c83-5ce63c70f7ba\">\n",
              "    <div class=\"colab-df-container\">\n",
              "      <div>\n",
              "<style scoped>\n",
              "    .dataframe tbody tr th:only-of-type {\n",
              "        vertical-align: middle;\n",
              "    }\n",
              "\n",
              "    .dataframe tbody tr th {\n",
              "        vertical-align: top;\n",
              "    }\n",
              "\n",
              "    .dataframe thead th {\n",
              "        text-align: right;\n",
              "    }\n",
              "</style>\n",
              "<table border=\"1\" class=\"dataframe\">\n",
              "  <thead>\n",
              "    <tr style=\"text-align: right;\">\n",
              "      <th></th>\n",
              "      <th>Category</th>\n",
              "      <th>Resume</th>\n",
              "      <th>cleaned_resume</th>\n",
              "    </tr>\n",
              "  </thead>\n",
              "  <tbody>\n",
              "    <tr>\n",
              "      <th>0</th>\n",
              "      <td>6</td>\n",
              "      <td>Skills * Programming Languages: Python (pandas...</td>\n",
              "      <td>skills programming languages python pandas num...</td>\n",
              "    </tr>\n",
              "    <tr>\n",
              "      <th>1</th>\n",
              "      <td>6</td>\n",
              "      <td>Education Details \\r\\nMay 2013 to May 2017 B.E...</td>\n",
              "      <td>education details may may b e uit rgpv data sc...</td>\n",
              "    </tr>\n",
              "    <tr>\n",
              "      <th>2</th>\n",
              "      <td>6</td>\n",
              "      <td>Areas of Interest Deep Learning, Control Syste...</td>\n",
              "      <td>areas interest deep learning control system de...</td>\n",
              "    </tr>\n",
              "    <tr>\n",
              "      <th>3</th>\n",
              "      <td>6</td>\n",
              "      <td>Skills â¢ R â¢ Python â¢ SAP HANA â¢ Table...</td>\n",
              "      <td>skills r python sap hana tableau sap hana sql ...</td>\n",
              "    </tr>\n",
              "    <tr>\n",
              "      <th>4</th>\n",
              "      <td>6</td>\n",
              "      <td>Education Details \\r\\n MCA   YMCAUST,  Faridab...</td>\n",
              "      <td>education details mca ymcaust faridabad haryan...</td>\n",
              "    </tr>\n",
              "  </tbody>\n",
              "</table>\n",
              "</div>\n",
              "      <button class=\"colab-df-convert\" onclick=\"convertToInteractive('df-b92cadaa-9089-49a0-9c83-5ce63c70f7ba')\"\n",
              "              title=\"Convert this dataframe to an interactive table.\"\n",
              "              style=\"display:none;\">\n",
              "        \n",
              "  <svg xmlns=\"http://www.w3.org/2000/svg\" height=\"24px\"viewBox=\"0 0 24 24\"\n",
              "       width=\"24px\">\n",
              "    <path d=\"M0 0h24v24H0V0z\" fill=\"none\"/>\n",
              "    <path d=\"M18.56 5.44l.94 2.06.94-2.06 2.06-.94-2.06-.94-.94-2.06-.94 2.06-2.06.94zm-11 1L8.5 8.5l.94-2.06 2.06-.94-2.06-.94L8.5 2.5l-.94 2.06-2.06.94zm10 10l.94 2.06.94-2.06 2.06-.94-2.06-.94-.94-2.06-.94 2.06-2.06.94z\"/><path d=\"M17.41 7.96l-1.37-1.37c-.4-.4-.92-.59-1.43-.59-.52 0-1.04.2-1.43.59L10.3 9.45l-7.72 7.72c-.78.78-.78 2.05 0 2.83L4 21.41c.39.39.9.59 1.41.59.51 0 1.02-.2 1.41-.59l7.78-7.78 2.81-2.81c.8-.78.8-2.07 0-2.86zM5.41 20L4 18.59l7.72-7.72 1.47 1.35L5.41 20z\"/>\n",
              "  </svg>\n",
              "      </button>\n",
              "      \n",
              "  <style>\n",
              "    .colab-df-container {\n",
              "      display:flex;\n",
              "      flex-wrap:wrap;\n",
              "      gap: 12px;\n",
              "    }\n",
              "\n",
              "    .colab-df-convert {\n",
              "      background-color: #E8F0FE;\n",
              "      border: none;\n",
              "      border-radius: 50%;\n",
              "      cursor: pointer;\n",
              "      display: none;\n",
              "      fill: #1967D2;\n",
              "      height: 32px;\n",
              "      padding: 0 0 0 0;\n",
              "      width: 32px;\n",
              "    }\n",
              "\n",
              "    .colab-df-convert:hover {\n",
              "      background-color: #E2EBFA;\n",
              "      box-shadow: 0px 1px 2px rgba(60, 64, 67, 0.3), 0px 1px 3px 1px rgba(60, 64, 67, 0.15);\n",
              "      fill: #174EA6;\n",
              "    }\n",
              "\n",
              "    [theme=dark] .colab-df-convert {\n",
              "      background-color: #3B4455;\n",
              "      fill: #D2E3FC;\n",
              "    }\n",
              "\n",
              "    [theme=dark] .colab-df-convert:hover {\n",
              "      background-color: #434B5C;\n",
              "      box-shadow: 0px 1px 3px 1px rgba(0, 0, 0, 0.15);\n",
              "      filter: drop-shadow(0px 1px 2px rgba(0, 0, 0, 0.3));\n",
              "      fill: #FFFFFF;\n",
              "    }\n",
              "  </style>\n",
              "\n",
              "      <script>\n",
              "        const buttonEl =\n",
              "          document.querySelector('#df-b92cadaa-9089-49a0-9c83-5ce63c70f7ba button.colab-df-convert');\n",
              "        buttonEl.style.display =\n",
              "          google.colab.kernel.accessAllowed ? 'block' : 'none';\n",
              "\n",
              "        async function convertToInteractive(key) {\n",
              "          const element = document.querySelector('#df-b92cadaa-9089-49a0-9c83-5ce63c70f7ba');\n",
              "          const dataTable =\n",
              "            await google.colab.kernel.invokeFunction('convertToInteractive',\n",
              "                                                     [key], {});\n",
              "          if (!dataTable) return;\n",
              "\n",
              "          const docLinkHtml = 'Like what you see? Visit the ' +\n",
              "            '<a target=\"_blank\" href=https://colab.research.google.com/notebooks/data_table.ipynb>data table notebook</a>'\n",
              "            + ' to learn more about interactive tables.';\n",
              "          element.innerHTML = '';\n",
              "          dataTable['output_type'] = 'display_data';\n",
              "          await google.colab.output.renderOutput(dataTable, element);\n",
              "          const docLink = document.createElement('div');\n",
              "          docLink.innerHTML = docLinkHtml;\n",
              "          element.appendChild(docLink);\n",
              "        }\n",
              "      </script>\n",
              "    </div>\n",
              "  </div>\n",
              "  "
            ]
          },
          "metadata": {},
          "execution_count": 260
        }
      ],
      "source": [
        "dataframe['cleaned_resume'] = dataframe.Resume.apply(lambda x: cleanResume(x))\n",
        "\n",
        "label_encoder = LabelEncoder()\n",
        "dataframe['Category'] = label_encoder.fit_transform(dataframe['Category'])\n",
        "dataframe.head(5)"
      ]
    },
    {
      "cell_type": "code",
      "source": [
        "# get the unique original labels in the corresponding encoded order\n",
        "unique_original_labels = list(label_encoder.classes_)\n",
        "print('unique_original_labels:', unique_original_labels)"
      ],
      "metadata": {
        "colab": {
          "base_uri": "https://localhost:8080/"
        },
        "id": "WHlLhFCeztAf",
        "outputId": "bba5b55b-261b-4a8f-d431-f1ee56baa19c"
      },
      "execution_count": 261,
      "outputs": [
        {
          "output_type": "stream",
          "name": "stdout",
          "text": [
            "unique_original_labels: ['Advocate', 'Arts', 'Automation Testing', 'Blockchain', 'Business Analyst', 'Civil Engineer', 'Data Science', 'Database', 'DevOps Engineer', 'DotNet Developer', 'ETL Developer', 'Electrical Engineering', 'HR', 'Hadoop', 'Health and fitness', 'Java Developer', 'Mechanical Engineer', 'Network Security Engineer', 'Operations Manager', 'PMO', 'Python Developer', 'SAP Developer', 'Sales', 'Testing', 'Web Designing']\n"
          ]
        }
      ]
    },
    {
      "cell_type": "code",
      "execution_count": 262,
      "metadata": {
        "id": "BxcLl8jc5hDV",
        "vscode": {
          "languageId": "python"
        }
      },
      "outputs": [],
      "source": [
        "input_variable = dataframe['cleaned_resume']\n",
        "output_variable = dataframe['Category']"
      ]
    },
    {
      "cell_type": "markdown",
      "metadata": {
        "id": "f2YGYWdsIaAs"
      },
      "source": [
        "**Split available resumes dataset into train, validation, and test data**"
      ]
    },
    {
      "cell_type": "code",
      "execution_count": 263,
      "metadata": {
        "id": "nM3BusfWfXfS",
        "vscode": {
          "languageId": "python"
        }
      },
      "outputs": [],
      "source": [
        "# train:val:test = 75:10:15\n",
        "train_X, test_X, train_Y, test_Y = train_test_split(input_variable, output_variable, random_state=42, shuffle=True, test_size=0.15)\n",
        "train_X, val_X, train_Y, val_Y = train_test_split(train_X, train_Y, random_state=42, shuffle=True, test_size=0.1176)"
      ]
    },
    {
      "cell_type": "markdown",
      "metadata": {
        "id": "4dXvlUMcp4Ik"
      },
      "source": [
        "**Tokenizing features and labels**"
      ]
    },
    {
      "cell_type": "code",
      "execution_count": 264,
      "metadata": {
        "id": "X7EcpTnpnCzH",
        "vscode": {
          "languageId": "python"
        },
        "colab": {
          "base_uri": "https://localhost:8080/"
        },
        "outputId": "f415ac0c-978e-4056-c57c-c55426979682"
      },
      "outputs": [
        {
          "output_type": "stream",
          "name": "stdout",
          "text": [
            "vectorized train_X [[  84 1063  289 ...    0    0    0]\n",
            " [ 144   34 3174 ...    0    0    0]\n",
            " [ 154   85   67 ...    0    0    0]\n",
            " [ 154   85  130 ...    0    0    0]\n",
            " [  35    7  106 ...    0    0    0]]\n",
            "shape of train_X (720, 30000)\n"
          ]
        }
      ],
      "source": [
        "max_vocab_size = 30000\n",
        "\n",
        "word_tokenizer = Tokenizer(num_words = max_vocab_size, oov_token = \"na\")\n",
        "word_tokenizer.fit_on_texts(input_variable)\n",
        "\n",
        "def feature_tokenizer(X_variable, Y_variable = np.array([[0], [1]])):\n",
        "\n",
        "    X_var_sequences = word_tokenizer.texts_to_sequences(X_variable)\n",
        "    tokenized_X = pad_sequences(X_var_sequences, maxlen = max_vocab_size, padding = 'post', truncating = 'post')\n",
        "    \n",
        "    Y_variable = np.array(Y_variable)\n",
        "    Y_variable = Y_variable.reshape(np.shape(Y_variable)[0], 1)\n",
        "\n",
        "    return tokenized_X, Y_variable\n",
        "    \n",
        "train_X, train_Y = feature_tokenizer(train_X, train_Y)\n",
        "val_X, val_Y = feature_tokenizer(val_X, val_Y)\n",
        "test_X, test_Y = feature_tokenizer(test_X, test_Y)\n",
        "print('vectorized train_X', train_X[0:5])\n",
        "print('shape of train_X', np.shape(train_X))"
      ]
    },
    {
      "cell_type": "markdown",
      "metadata": {
        "id": "1nVpKLF1T3Sz"
      },
      "source": [
        "# LSTM"
      ]
    },
    {
      "cell_type": "markdown",
      "metadata": {
        "id": "G-GaXIK9IkeE"
      },
      "source": [
        "**Building the model**"
      ]
    },
    {
      "cell_type": "code",
      "execution_count": 265,
      "metadata": {
        "colab": {
          "base_uri": "https://localhost:8080/"
        },
        "id": "g87uFQFxf5LN",
        "outputId": "68199fdd-8a61-4738-d046-b996b0a56330",
        "vscode": {
          "languageId": "python"
        }
      },
      "outputs": [
        {
          "output_type": "stream",
          "name": "stdout",
          "text": [
            "Model: \"sequential_9\"\n",
            "_________________________________________________________________\n",
            " Layer (type)                Output Shape              Param #   \n",
            "=================================================================\n",
            " embedding_9 (Embedding)     (None, None, 64)          1920000   \n",
            "                                                                 \n",
            " bidirectional_9 (Bidirectio  (None, 128)              66048     \n",
            " nal)                                                            \n",
            "                                                                 \n",
            " dense_18 (Dense)            (None, 64)                8256      \n",
            "                                                                 \n",
            " dense_19 (Dense)            (None, 25)                1625      \n",
            "                                                                 \n",
            "=================================================================\n",
            "Total params: 1,995,929\n",
            "Trainable params: 1,995,929\n",
            "Non-trainable params: 0\n",
            "_________________________________________________________________\n"
          ]
        }
      ],
      "source": [
        "embedding_dimension = 64\n",
        "\n",
        "# LSTM model takes the input vocabulary of size 30000, and output embedding dimension of size 64 \n",
        "LSTM_model = Sequential([Embedding(max_vocab_size, embedding_dimension,), Bidirectional(LSTM(64)), Dense(64, activation='relu'), Dense(25, activation='softmax')])\n",
        "LSTM_model.summary()"
      ]
    },
    {
      "cell_type": "code",
      "execution_count": 266,
      "metadata": {
        "colab": {
          "base_uri": "https://localhost:8080/"
        },
        "id": "njmkU2xBh7g7",
        "outputId": "34a419be-eca6-4043-881a-61df3dcb2d5c",
        "vscode": {
          "languageId": "python"
        }
      },
      "outputs": [
        {
          "output_type": "stream",
          "name": "stdout",
          "text": [
            "Epoch 1/20\n",
            "23/23 [==============================] - 50s 2s/step - loss: 3.1985 - accuracy: 0.0931 - val_loss: 3.1493 - val_accuracy: 0.0928\n",
            "Epoch 2/20\n",
            "23/23 [==============================] - 36s 2s/step - loss: 3.1047 - accuracy: 0.0917 - val_loss: 3.2377 - val_accuracy: 0.0103\n",
            "Epoch 3/20\n",
            "23/23 [==============================] - 39s 2s/step - loss: 2.8728 - accuracy: 0.1389 - val_loss: 2.7768 - val_accuracy: 0.1443\n",
            "Epoch 4/20\n",
            "23/23 [==============================] - 37s 2s/step - loss: 2.6524 - accuracy: 0.1653 - val_loss: 2.5236 - val_accuracy: 0.2371\n",
            "Epoch 5/20\n",
            "23/23 [==============================] - 37s 2s/step - loss: 2.4276 - accuracy: 0.2139 - val_loss: 2.3089 - val_accuracy: 0.2887\n",
            "Epoch 6/20\n",
            "23/23 [==============================] - 36s 2s/step - loss: 2.2298 - accuracy: 0.3056 - val_loss: 2.0779 - val_accuracy: 0.3608\n",
            "Epoch 7/20\n",
            "23/23 [==============================] - 36s 2s/step - loss: 1.9345 - accuracy: 0.4000 - val_loss: 1.7771 - val_accuracy: 0.5773\n",
            "Epoch 8/20\n",
            "23/23 [==============================] - 36s 2s/step - loss: 1.7003 - accuracy: 0.5028 - val_loss: 1.5410 - val_accuracy: 0.6495\n",
            "Epoch 9/20\n",
            "23/23 [==============================] - 38s 2s/step - loss: 1.4624 - accuracy: 0.6028 - val_loss: 1.3173 - val_accuracy: 0.7113\n",
            "Epoch 10/20\n",
            "23/23 [==============================] - 36s 2s/step - loss: 1.2242 - accuracy: 0.7125 - val_loss: 1.0951 - val_accuracy: 0.7423\n",
            "Epoch 11/20\n",
            "23/23 [==============================] - 36s 2s/step - loss: 1.0120 - accuracy: 0.7472 - val_loss: 0.9024 - val_accuracy: 0.8660\n",
            "Epoch 12/20\n",
            "23/23 [==============================] - 38s 2s/step - loss: 0.8453 - accuracy: 0.8347 - val_loss: 0.7081 - val_accuracy: 0.8454\n",
            "Epoch 13/20\n",
            "23/23 [==============================] - 36s 2s/step - loss: 0.6725 - accuracy: 0.8611 - val_loss: 0.7181 - val_accuracy: 0.8454\n",
            "Epoch 14/20\n",
            "23/23 [==============================] - 37s 2s/step - loss: 0.5477 - accuracy: 0.8903 - val_loss: 0.4317 - val_accuracy: 0.9072\n",
            "Epoch 15/20\n",
            "23/23 [==============================] - 36s 2s/step - loss: 0.4305 - accuracy: 0.9222 - val_loss: 0.3565 - val_accuracy: 0.9072\n",
            "Epoch 16/20\n",
            "23/23 [==============================] - 35s 2s/step - loss: 0.3400 - accuracy: 0.9250 - val_loss: 0.3166 - val_accuracy: 0.9381\n",
            "Epoch 17/20\n",
            "23/23 [==============================] - 35s 2s/step - loss: 0.2433 - accuracy: 0.9667 - val_loss: 0.1866 - val_accuracy: 0.9588\n",
            "Epoch 18/20\n",
            "23/23 [==============================] - 36s 2s/step - loss: 0.2392 - accuracy: 0.9486 - val_loss: 0.1431 - val_accuracy: 1.0000\n",
            "Epoch 19/20\n",
            "23/23 [==============================] - 35s 2s/step - loss: 0.1558 - accuracy: 0.9819 - val_loss: 0.1030 - val_accuracy: 1.0000\n",
            "Epoch 20/20\n",
            "23/23 [==============================] - 36s 2s/step - loss: 0.0848 - accuracy: 0.9986 - val_loss: 0.3581 - val_accuracy: 0.9072\n"
          ]
        }
      ],
      "source": [
        "LSTM_model.compile(loss = 'sparse_categorical_crossentropy', optimizer = 'rmsprop', metrics=['accuracy'])\n",
        "\n",
        "Early_Stopping_parameter = EarlyStopping(monitor = 'val_loss', patience = 2)\n",
        "\n",
        "LSTM_model_history = LSTM_model.fit(train_X, train_Y, epochs = 20, validation_data=(val_X, val_Y), callbacks=[Early_Stopping_parameter])"
      ]
    },
    {
      "cell_type": "markdown",
      "metadata": {
        "id": "c4tcs7VKIssH"
      },
      "source": [
        "**evaluating the model**"
      ]
    },
    {
      "cell_type": "code",
      "execution_count": 267,
      "metadata": {
        "colab": {
          "base_uri": "https://localhost:8080/"
        },
        "id": "g5vAJ0GwCr1S",
        "outputId": "5b9d2bda-24d4-4e4c-c119-506f3013f30a",
        "vscode": {
          "languageId": "python"
        }
      },
      "outputs": [
        {
          "output_type": "stream",
          "name": "stdout",
          "text": [
            "5/5 [==============================] - 3s 576ms/step - loss: 0.6189 - accuracy: 0.8138\n",
            "LSTM model Test Accuracy: 0.8137931227684021\n"
          ]
        }
      ],
      "source": [
        "LSTM_model_score = LSTM_model.evaluate(test_X, test_Y, verbose = 1)\n",
        "# print(\"LSTM model loss value:\", LSTM_model_score[0])\n",
        "print(\"LSTM model Test Accuracy:\", LSTM_model_score[1])"
      ]
    },
    {
      "cell_type": "code",
      "source": [
        "LSTM_prediction_val = LSTM_model.predict(test_X)\n",
        "y_actual = np.reshape(test_Y, (1, len(test_Y)))[0]\n",
        "y_pred = np.argmax(LSTM_prediction_val, axis=1)\n",
        "print(\"\\n%s\\n\" %(metrics.classification_report(y_actual, y_pred)))"
      ],
      "metadata": {
        "colab": {
          "base_uri": "https://localhost:8080/"
        },
        "id": "leaApx0tsOXI",
        "outputId": "18fcf86c-1c5d-4587-f9c1-3604429ed996"
      },
      "execution_count": 268,
      "outputs": [
        {
          "output_type": "stream",
          "name": "stdout",
          "text": [
            "5/5 [==============================] - 4s 559ms/step\n",
            "\n",
            "              precision    recall  f1-score   support\n",
            "\n",
            "           0       1.00      0.33      0.50         3\n",
            "           1       0.80      0.80      0.80         5\n",
            "           2       1.00      1.00      1.00         5\n",
            "           3       1.00      1.00      1.00         5\n",
            "           4       1.00      0.50      0.67         2\n",
            "           5       0.00      0.00      0.00         6\n",
            "           6       1.00      1.00      1.00         3\n",
            "           7       1.00      0.60      0.75         5\n",
            "           8       1.00      0.90      0.95        10\n",
            "           9       1.00      1.00      1.00         4\n",
            "          10       1.00      1.00      1.00         7\n",
            "          11       0.62      1.00      0.77         5\n",
            "          12       0.88      0.78      0.82         9\n",
            "          13       0.60      1.00      0.75         3\n",
            "          14       1.00      0.71      0.83         7\n",
            "          15       1.00      1.00      1.00        11\n",
            "          16       0.18      0.40      0.25         5\n",
            "          17       0.60      1.00      0.75         3\n",
            "          18       0.62      0.71      0.67         7\n",
            "          19       0.67      0.57      0.62         7\n",
            "          20       1.00      0.75      0.86         8\n",
            "          21       0.75      1.00      0.86         6\n",
            "          22       0.83      1.00      0.91         5\n",
            "          23       1.00      1.00      1.00        10\n",
            "          24       1.00      1.00      1.00         4\n",
            "\n",
            "    accuracy                           0.81       145\n",
            "   macro avg       0.82      0.80      0.79       145\n",
            "weighted avg       0.84      0.81      0.81       145\n",
            "\n",
            "\n"
          ]
        }
      ]
    },
    {
      "cell_type": "code",
      "execution_count": 269,
      "metadata": {
        "colab": {
          "base_uri": "https://localhost:8080/",
          "height": 472
        },
        "id": "UgmlfrmuCzyU",
        "outputId": "2e57286a-462a-4f0e-90e2-09d4754691a8",
        "vscode": {
          "languageId": "python"
        }
      },
      "outputs": [
        {
          "output_type": "display_data",
          "data": {
            "text/plain": [
              "<Figure size 640x480 with 1 Axes>"
            ],
            "image/png": "[encoded data removed]"
          },
          "metadata": {}
        }
      ],
      "source": [
        "plt.plot(LSTM_model_history.history['accuracy'])\n",
        "plt.plot(LSTM_model_history.history['val_accuracy'])\n",
        "\n",
        "plt.title('LSTM model accuracy')\n",
        "plt.ylabel('model accuracy')\n",
        "plt.xlabel('epochs')\n",
        "plt.legend(['train','test'], loc = 'upper left')\n",
        "plt.show()"
      ]
    },
    {
      "cell_type": "markdown",
      "metadata": {
        "id": "AFvmPNitndf5"
      },
      "source": [
        "# KNN"
      ]
    },
    {
      "cell_type": "code",
      "execution_count": 270,
      "metadata": {
        "colab": {
          "base_uri": "https://localhost:8080/"
        },
        "outputId": "c9b3420f-ae86-4871-92d4-edf671287477",
        "vscode": {
          "languageId": "python"
        },
        "id": "E47em-Cendf_"
      },
      "outputs": [
        {
          "output_type": "stream",
          "name": "stdout",
          "text": [
            "\n",
            "              precision    recall  f1-score   support\n",
            "\n",
            "           0       0.00      0.00      0.00         3\n",
            "           1       0.71      1.00      0.83         5\n",
            "           2       1.00      1.00      1.00         5\n",
            "           3       1.00      1.00      1.00         5\n",
            "           4       1.00      1.00      1.00         2\n",
            "           5       1.00      0.17      0.29         6\n",
            "           6       1.00      0.67      0.80         3\n",
            "           7       0.00      0.00      0.00         5\n",
            "           8       0.60      0.90      0.72        10\n",
            "           9       0.60      0.75      0.67         4\n",
            "          10       0.88      1.00      0.93         7\n",
            "          11       0.83      1.00      0.91         5\n",
            "          12       0.62      0.56      0.59         9\n",
            "          13       1.00      1.00      1.00         3\n",
            "          14       1.00      0.71      0.83         7\n",
            "          15       1.00      1.00      1.00        11\n",
            "          16       0.71      1.00      0.83         5\n",
            "          17       1.00      1.00      1.00         3\n",
            "          18       1.00      1.00      1.00         7\n",
            "          19       0.88      1.00      0.93         7\n",
            "          20       0.80      1.00      0.89         8\n",
            "          21       1.00      0.50      0.67         6\n",
            "          22       1.00      1.00      1.00         5\n",
            "          23       0.91      1.00      0.95        10\n",
            "          24       0.50      1.00      0.67         4\n",
            "\n",
            "    accuracy                           0.83       145\n",
            "   macro avg       0.80      0.81      0.78       145\n",
            "weighted avg       0.81      0.83      0.80       145\n",
            "\n",
            "\n",
            "Accuracy of KNeighbors Classifier on training set: 0.9083333333333333\n",
            "Accuracy of KNeighbors Classifier on test set: 0.8275862068965517\n"
          ]
        }
      ],
      "source": [
        "knn_model = OneVsRestClassifier(KNeighborsClassifier(n_neighbors = 5))\n",
        "knn_model.fit(train_X, train_Y)\n",
        "prediction = knn_model.predict(test_X)\n",
        "print(\"\\n%s\\n\" % (metrics.classification_report(test_Y, prediction)))\n",
        "print('Accuracy of KNeighbors Classifier on training set:', knn_model.score(train_X, train_Y))\n",
        "print('Accuracy of KNeighbors Classifier on test set:', knn_model.score(test_X, test_Y))"
      ]
    },
    {
      "cell_type": "markdown",
      "source": [
        "# Realtime resume screening"
      ],
      "metadata": {
        "id": "NJ0oGL9fZkvW"
      }
    },
    {
      "cell_type": "code",
      "source": [
        "def pdf_csv(files_count):\n",
        "\n",
        "    # Open a CSV file for writing\n",
        "    with open('test_resume.csv', 'w', newline='') as f:\n",
        "        writer = csv.writer(f) \n",
        "        writer.writerow(['Resume'])\n",
        "\n",
        "        for i in range(files_count):\n",
        "          doc = fitz.open('/content/Resume{}.pdf'.format(i+1))\n",
        "          text = \"\"\n",
        "\n",
        "          for page in doc:\n",
        "            text += page.get_text()\n",
        "\n",
        "          # Write the keys of the dictionary as the header row\n",
        "          writer.writerow([text])"
      ],
      "metadata": {
        "id": "3zwcCfLZFXJh"
      },
      "execution_count": 271,
      "outputs": []
    },
    {
      "cell_type": "code",
      "execution_count": 272,
      "metadata": {
        "colab": {
          "base_uri": "https://localhost:8080/",
          "height": 112
        },
        "outputId": "0490aab7-d291-40bb-b130-b6b905561ecf",
        "vscode": {
          "languageId": "python"
        },
        "id": "Xqn6n9zVZ1MT"
      },
      "outputs": [
        {
          "output_type": "execute_result",
          "data": {
            "text/plain": [
              "                                              Resume\n",
              "0  Rajkumar Gara \\nEmail ID: rajkumar.gara3@gmail...\n",
              "1  Sharath Reddy Dopathi \\n    +1(260)804-1965 | ..."
            ],
            "text/html": [
              "\n",
              "  <div id=\"df-69220923-b48d-4d6b-be12-5edefe43edd1\">\n",
              "    <div class=\"colab-df-container\">\n",
              "      <div>\n",
              "<style scoped>\n",
              "    .dataframe tbody tr th:only-of-type {\n",
              "        vertical-align: middle;\n",
              "    }\n",
              "\n",
              "    .dataframe tbody tr th {\n",
              "        vertical-align: top;\n",
              "    }\n",
              "\n",
              "    .dataframe thead th {\n",
              "        text-align: right;\n",
              "    }\n",
              "</style>\n",
              "<table border=\"1\" class=\"dataframe\">\n",
              "  <thead>\n",
              "    <tr style=\"text-align: right;\">\n",
              "      <th></th>\n",
              "      <th>Resume</th>\n",
              "    </tr>\n",
              "  </thead>\n",
              "  <tbody>\n",
              "    <tr>\n",
              "      <th>0</th>\n",
              "      <td>Rajkumar Gara \\nEmail ID: rajkumar.gara3@gmail...</td>\n",
              "    </tr>\n",
              "    <tr>\n",
              "      <th>1</th>\n",
              "      <td>Sharath Reddy Dopathi \\n    +1(260)804-1965 | ...</td>\n",
              "    </tr>\n",
              "  </tbody>\n",
              "</table>\n",
              "</div>\n",
              "      <button class=\"colab-df-convert\" onclick=\"convertToInteractive('df-69220923-b48d-4d6b-be12-5edefe43edd1')\"\n",
              "              title=\"Convert this dataframe to an interactive table.\"\n",
              "              style=\"display:none;\">\n",
              "        \n",
              "  <svg xmlns=\"http://www.w3.org/2000/svg\" height=\"24px\"viewBox=\"0 0 24 24\"\n",
              "       width=\"24px\">\n",
              "    <path d=\"M0 0h24v24H0V0z\" fill=\"none\"/>\n",
              "    <path d=\"M18.56 5.44l.94 2.06.94-2.06 2.06-.94-2.06-.94-.94-2.06-.94 2.06-2.06.94zm-11 1L8.5 8.5l.94-2.06 2.06-.94-2.06-.94L8.5 2.5l-.94 2.06-2.06.94zm10 10l.94 2.06.94-2.06 2.06-.94-2.06-.94-.94-2.06-.94 2.06-2.06.94z\"/><path d=\"M17.41 7.96l-1.37-1.37c-.4-.4-.92-.59-1.43-.59-.52 0-1.04.2-1.43.59L10.3 9.45l-7.72 7.72c-.78.78-.78 2.05 0 2.83L4 21.41c.39.39.9.59 1.41.59.51 0 1.02-.2 1.41-.59l7.78-7.78 2.81-2.81c.8-.78.8-2.07 0-2.86zM5.41 20L4 18.59l7.72-7.72 1.47 1.35L5.41 20z\"/>\n",
              "  </svg>\n",
              "      </button>\n",
              "      \n",
              "  <style>\n",
              "    .colab-df-container {\n",
              "      display:flex;\n",
              "      flex-wrap:wrap;\n",
              "      gap: 12px;\n",
              "    }\n",
              "\n",
              "    .colab-df-convert {\n",
              "      background-color: #E8F0FE;\n",
              "      border: none;\n",
              "      border-radius: 50%;\n",
              "      cursor: pointer;\n",
              "      display: none;\n",
              "      fill: #1967D2;\n",
              "      height: 32px;\n",
              "      padding: 0 0 0 0;\n",
              "      width: 32px;\n",
              "    }\n",
              "\n",
              "    .colab-df-convert:hover {\n",
              "      background-color: #E2EBFA;\n",
              "      box-shadow: 0px 1px 2px rgba(60, 64, 67, 0.3), 0px 1px 3px 1px rgba(60, 64, 67, 0.15);\n",
              "      fill: #174EA6;\n",
              "    }\n",
              "\n",
              "    [theme=dark] .colab-df-convert {\n",
              "      background-color: #3B4455;\n",
              "      fill: #D2E3FC;\n",
              "    }\n",
              "\n",
              "    [theme=dark] .colab-df-convert:hover {\n",
              "      background-color: #434B5C;\n",
              "      box-shadow: 0px 1px 3px 1px rgba(0, 0, 0, 0.15);\n",
              "      filter: drop-shadow(0px 1px 2px rgba(0, 0, 0, 0.3));\n",
              "      fill: #FFFFFF;\n",
              "    }\n",
              "  </style>\n",
              "\n",
              "      <script>\n",
              "        const buttonEl =\n",
              "          document.querySelector('#df-69220923-b48d-4d6b-be12-5edefe43edd1 button.colab-df-convert');\n",
              "        buttonEl.style.display =\n",
              "          google.colab.kernel.accessAllowed ? 'block' : 'none';\n",
              "\n",
              "        async function convertToInteractive(key) {\n",
              "          const element = document.querySelector('#df-69220923-b48d-4d6b-be12-5edefe43edd1');\n",
              "          const dataTable =\n",
              "            await google.colab.kernel.invokeFunction('convertToInteractive',\n",
              "                                                     [key], {});\n",
              "          if (!dataTable) return;\n",
              "\n",
              "          const docLinkHtml = 'Like what you see? Visit the ' +\n",
              "            '<a target=\"_blank\" href=https://colab.research.google.com/notebooks/data_table.ipynb>data table notebook</a>'\n",
              "            + ' to learn more about interactive tables.';\n",
              "          element.innerHTML = '';\n",
              "          dataTable['output_type'] = 'display_data';\n",
              "          await google.colab.output.renderOutput(dataTable, element);\n",
              "          const docLink = document.createElement('div');\n",
              "          docLink.innerHTML = docLinkHtml;\n",
              "          element.appendChild(docLink);\n",
              "        }\n",
              "      </script>\n",
              "    </div>\n",
              "  </div>\n",
              "  "
            ]
          },
          "metadata": {},
          "execution_count": 272
        }
      ],
      "source": [
        "pdf_csv(2)\n",
        "test_dataframe = pd.read_csv('/content/test_resume.csv', encoding='utf-8')\n",
        "test_dataframe.head()"
      ]
    },
    {
      "cell_type": "markdown",
      "metadata": {
        "id": "lxJj3_eiaFYQ"
      },
      "source": [
        "**Data Pre-processing**"
      ]
    },
    {
      "cell_type": "code",
      "execution_count": 273,
      "metadata": {
        "colab": {
          "base_uri": "https://localhost:8080/",
          "height": 112
        },
        "outputId": "38f0041b-f203-4edc-9868-defd76ea4303",
        "vscode": {
          "languageId": "python"
        },
        "id": "f1bUSYHfaFYQ"
      },
      "outputs": [
        {
          "output_type": "execute_result",
          "data": {
            "text/plain": [
              "                                              Resume  \\\n",
              "0  Rajkumar Gara \\nEmail ID: rajkumar.gara3@gmail...   \n",
              "1  Sharath Reddy Dopathi \\n    +1(260)804-1965 | ...   \n",
              "\n",
              "                                      cleaned_resume  \n",
              "0  rajkumar gara email id rajkumar gara mobile li...  \n",
              "1  sharath reddy dopathi linkedin dopathisharathr...  "
            ],
            "text/html": [
              "\n",
              "  <div id=\"df-3c9c8811-4f3e-41d6-886a-bd1bfd09ee5d\">\n",
              "    <div class=\"colab-df-container\">\n",
              "      <div>\n",
              "<style scoped>\n",
              "    .dataframe tbody tr th:only-of-type {\n",
              "        vertical-align: middle;\n",
              "    }\n",
              "\n",
              "    .dataframe tbody tr th {\n",
              "        vertical-align: top;\n",
              "    }\n",
              "\n",
              "    .dataframe thead th {\n",
              "        text-align: right;\n",
              "    }\n",
              "</style>\n",
              "<table border=\"1\" class=\"dataframe\">\n",
              "  <thead>\n",
              "    <tr style=\"text-align: right;\">\n",
              "      <th></th>\n",
              "      <th>Resume</th>\n",
              "      <th>cleaned_resume</th>\n",
              "    </tr>\n",
              "  </thead>\n",
              "  <tbody>\n",
              "    <tr>\n",
              "      <th>0</th>\n",
              "      <td>Rajkumar Gara \\nEmail ID: rajkumar.gara3@gmail...</td>\n",
              "      <td>rajkumar gara email id rajkumar gara mobile li...</td>\n",
              "    </tr>\n",
              "    <tr>\n",
              "      <th>1</th>\n",
              "      <td>Sharath Reddy Dopathi \\n    +1(260)804-1965 | ...</td>\n",
              "      <td>sharath reddy dopathi linkedin dopathisharathr...</td>\n",
              "    </tr>\n",
              "  </tbody>\n",
              "</table>\n",
              "</div>\n",
              "      <button class=\"colab-df-convert\" onclick=\"convertToInteractive('df-3c9c8811-4f3e-41d6-886a-bd1bfd09ee5d')\"\n",
              "              title=\"Convert this dataframe to an interactive table.\"\n",
              "              style=\"display:none;\">\n",
              "        \n",
              "  <svg xmlns=\"http://www.w3.org/2000/svg\" height=\"24px\"viewBox=\"0 0 24 24\"\n",
              "       width=\"24px\">\n",
              "    <path d=\"M0 0h24v24H0V0z\" fill=\"none\"/>\n",
              "    <path d=\"M18.56 5.44l.94 2.06.94-2.06 2.06-.94-2.06-.94-.94-2.06-.94 2.06-2.06.94zm-11 1L8.5 8.5l.94-2.06 2.06-.94-2.06-.94L8.5 2.5l-.94 2.06-2.06.94zm10 10l.94 2.06.94-2.06 2.06-.94-2.06-.94-.94-2.06-.94 2.06-2.06.94z\"/><path d=\"M17.41 7.96l-1.37-1.37c-.4-.4-.92-.59-1.43-.59-.52 0-1.04.2-1.43.59L10.3 9.45l-7.72 7.72c-.78.78-.78 2.05 0 2.83L4 21.41c.39.39.9.59 1.41.59.51 0 1.02-.2 1.41-.59l7.78-7.78 2.81-2.81c.8-.78.8-2.07 0-2.86zM5.41 20L4 18.59l7.72-7.72 1.47 1.35L5.41 20z\"/>\n",
              "  </svg>\n",
              "      </button>\n",
              "      \n",
              "  <style>\n",
              "    .colab-df-container {\n",
              "      display:flex;\n",
              "      flex-wrap:wrap;\n",
              "      gap: 12px;\n",
              "    }\n",
              "\n",
              "    .colab-df-convert {\n",
              "      background-color: #E8F0FE;\n",
              "      border: none;\n",
              "      border-radius: 50%;\n",
              "      cursor: pointer;\n",
              "      display: none;\n",
              "      fill: #1967D2;\n",
              "      height: 32px;\n",
              "      padding: 0 0 0 0;\n",
              "      width: 32px;\n",
              "    }\n",
              "\n",
              "    .colab-df-convert:hover {\n",
              "      background-color: #E2EBFA;\n",
              "      box-shadow: 0px 1px 2px rgba(60, 64, 67, 0.3), 0px 1px 3px 1px rgba(60, 64, 67, 0.15);\n",
              "      fill: #174EA6;\n",
              "    }\n",
              "\n",
              "    [theme=dark] .colab-df-convert {\n",
              "      background-color: #3B4455;\n",
              "      fill: #D2E3FC;\n",
              "    }\n",
              "\n",
              "    [theme=dark] .colab-df-convert:hover {\n",
              "      background-color: #434B5C;\n",
              "      box-shadow: 0px 1px 3px 1px rgba(0, 0, 0, 0.15);\n",
              "      filter: drop-shadow(0px 1px 2px rgba(0, 0, 0, 0.3));\n",
              "      fill: #FFFFFF;\n",
              "    }\n",
              "  </style>\n",
              "\n",
              "      <script>\n",
              "        const buttonEl =\n",
              "          document.querySelector('#df-3c9c8811-4f3e-41d6-886a-bd1bfd09ee5d button.colab-df-convert');\n",
              "        buttonEl.style.display =\n",
              "          google.colab.kernel.accessAllowed ? 'block' : 'none';\n",
              "\n",
              "        async function convertToInteractive(key) {\n",
              "          const element = document.querySelector('#df-3c9c8811-4f3e-41d6-886a-bd1bfd09ee5d');\n",
              "          const dataTable =\n",
              "            await google.colab.kernel.invokeFunction('convertToInteractive',\n",
              "                                                     [key], {});\n",
              "          if (!dataTable) return;\n",
              "\n",
              "          const docLinkHtml = 'Like what you see? Visit the ' +\n",
              "            '<a target=\"_blank\" href=https://colab.research.google.com/notebooks/data_table.ipynb>data table notebook</a>'\n",
              "            + ' to learn more about interactive tables.';\n",
              "          element.innerHTML = '';\n",
              "          dataTable['output_type'] = 'display_data';\n",
              "          await google.colab.output.renderOutput(dataTable, element);\n",
              "          const docLink = document.createElement('div');\n",
              "          docLink.innerHTML = docLinkHtml;\n",
              "          element.appendChild(docLink);\n",
              "        }\n",
              "      </script>\n",
              "    </div>\n",
              "  </div>\n",
              "  "
            ]
          },
          "metadata": {},
          "execution_count": 273
        }
      ],
      "source": [
        "test_dataframe['cleaned_resume'] = test_dataframe.Resume.apply(lambda x: cleanResume(x))\n",
        "test_dataframe.head()"
      ]
    },
    {
      "cell_type": "markdown",
      "source": [
        "**LSTM prediction**"
      ],
      "metadata": {
        "id": "Xtu22QbWpnjw"
      }
    },
    {
      "cell_type": "code",
      "source": [
        "target_category = 'Data Science'\n",
        "target_category_threshold = 0.0\n",
        "target_index = unique_original_labels.index(target_category)\n",
        "\n",
        "\n",
        "test_input_variable = test_dataframe['cleaned_resume']\n",
        "resume_ranking = []\n",
        "LSTM_test_input, _ = feature_tokenizer(test_input_variable)\n",
        "LSTM_prediction = LSTM_model.predict(LSTM_test_input)\n",
        "print('LSTM_prediction', LSTM_prediction)\n",
        "\n",
        "for i in range(len(LSTM_prediction)):\n",
        "  if LSTM_prediction[i][target_index] >= target_category_threshold:\n",
        "    resume_ranking.append(round(LSTM_prediction[i][target_index] * 100, 2))\n",
        "\n",
        "if resume_ranking == []:\n",
        "  print(\"could not be able to rank the resume\")\n",
        "\n",
        "else:\n",
        "  print('resume_ranking:', resume_ranking)"
      ],
      "metadata": {
        "colab": {
          "base_uri": "https://localhost:8080/"
        },
        "id": "MkUB8j4ahOFn",
        "outputId": "a6ef7b56-74d4-4d49-a25e-d4d947593a03"
      },
      "execution_count": 274,
      "outputs": [
        {
          "output_type": "stream",
          "name": "stdout",
          "text": [
            "1/1 [==============================] - 1s 539ms/step\n",
            "LSTM_prediction [[4.7422353e-05 2.4054525e-06 1.1867258e-02 1.4885696e-02 3.5102235e-03\n",
            "  7.6077913e-06 6.8781662e-01 8.7956803e-05 9.2064083e-02 1.6072515e-03\n",
            "  1.0878704e-06 1.8910617e-06 1.5674821e-04 5.8555527e-04 5.7766167e-05\n",
            "  4.3236148e-05 2.5262663e-08 6.4530171e-04 3.6654308e-09 8.8275319e-06\n",
            "  1.0244785e-01 8.8897552e-03 1.2973999e-05 6.1407837e-07 7.5251780e-02]\n",
            " [4.5301997e-05 2.9118553e-07 2.6380839e-03 2.2387126e-01 2.4914427e-03\n",
            "  2.9638855e-07 2.9658404e-01 1.2998073e-06 1.4374200e-04 1.4366930e-02\n",
            "  5.4163056e-09 4.4243739e-06 1.0593651e-05 1.0814048e-06 1.3187098e-04\n",
            "  3.1170519e-05 9.7781685e-09 1.2684274e-03 5.1393938e-09 2.7878440e-07\n",
            "  6.4731357e-03 1.0584462e-02 3.5704932e-06 8.8003560e-09 4.4134828e-01]]\n",
            "resume_ranking: [68.78, 29.66]\n"
          ]
        }
      ]
    },
    {
      "cell_type": "code",
      "source": [
        "KNN_prediction = knn_model.predict(LSTM_test_input)\n",
        "KNN_prediction_proba = knn_model.predict_proba(LSTM_test_input)\n",
        "# print(LSTM_test_input[0][0:300])\n",
        "# print(np.shape(LSTM_test_input))\n",
        "print('KNN_prediction', KNN_prediction)\n",
        "# print('KNN_prediction_proba', KNN_prediction_proba)"
      ],
      "metadata": {
        "colab": {
          "base_uri": "https://localhost:8080/"
        },
        "id": "1tpPntC8iuZx",
        "outputId": "02845ac6-2025-4c64-ae01-2e9f02211b90"
      },
      "execution_count": 275,
      "outputs": [
        {
          "output_type": "stream",
          "name": "stdout",
          "text": [
            "KNN_prediction [24 24]\n"
          ]
        }
      ]
    }
  ],
  "metadata": {
    "accelerator": "GPU",
    "colab": {
      "machine_shape": "hm",
      "provenance": []
    },
    "gpuClass": "standard",
    "kernelspec": {
      "display_name": "Python 3",
      "name": "python3"
    }
  },
  "nbformat": 4,
  "nbformat_minor": 0
}